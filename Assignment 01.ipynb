{
 "cells": [
  {
   "cell_type": "markdown",
   "metadata": {},
   "source": [
    "### Code Excersice 01"
   ]
  },
  {
   "cell_type": "code",
   "execution_count": 2,
   "metadata": {
    "scrolled": true
   },
   "outputs": [],
   "source": [
    "# Plant Creation\n",
    "\n",
    "# Plant 01\n",
    "plant_name = \"pea_shooter\"\n",
    "plant_Img = \"url\"\n",
    "Plant_chr = [\"defence\",\"shoot\",\"attack\"]\n",
    "Plant_cost = 100\n",
    "Plant_pow = 20\n",
    "is_repeat = True\n",
    "\n",
    "\n",
    "# Plant 02\n",
    "plant_name = \"wall_nut\"\n",
    "plant_Img = \"url\"\n",
    "Plant_chr = [\"defence\"]\n",
    "Plant_cost = 500\n",
    "Plant_pow = 300\n",
    "is_repeat = True\n",
    "\n",
    "plant_dict01 = {\"plant_name\" : \"pea_shooter\",\n",
    "\"plant_Img\" : \"url\",\n",
    "\"Plant_chr\" : [\"defence\",\"shoot\",\"attack\"],\n",
    "\"Plant_cost\" : 100,\n",
    "\"Plant_pow\" : 20,\n",
    "\"is_repeat\" : True}\n",
    "\n",
    "plant_dict02 = {\"plant_name\" : \"wall_nut\",\n",
    "\"plant_Img\" : \"url\",\n",
    "\"Plant_chr\" : [\"defence\"],\n",
    "\"Plant_cost\" : 500,\n",
    "\"Plant_pow\" : 300,\n",
    "\"is_repeat\" : True}\n",
    "\n",
    "plant_set = [{\"plant_name\" : \"pea_shooter\",\n",
    "\"plant_Img\" : \"url\",\n",
    "\"Plant_chr\" : [\"defence\",\"shoot\",\"attack\"],\n",
    "\"Plant_cost\" : 100,\n",
    "\"Plant_pow\" : 20,\n",
    "\"is_repeat\" : True},{\"plant_name\" : \"wall_nut\",\n",
    "\"plant_Img\" : \"url\",\n",
    "\"Plant_chr\" : [\"defence\"],\n",
    "\"Plant_cost\" : 500,\n",
    "\"Plant_pow\" : 300,\n",
    "\"is_repeat\" : True}]\n"
   ]
  },
  {
   "cell_type": "code",
   "execution_count": 3,
   "metadata": {},
   "outputs": [],
   "source": [
    "# Zombi Creation\n",
    "\n",
    "# zombi 01\n",
    "zombi_name = \"normal\"\n",
    "zomb_chr = [\"walk\"]\n",
    "zomb_health = 100\n",
    "zomb_toughness = 50.23\n",
    "is_respect = False\n",
    "\n",
    "#zombi 02\n",
    "zombi_name = \"cone_head\"\n",
    "zomb_chr = [\"walk\",\"Protect_head\"]\n",
    "zomb_health = 250\n",
    "zomb_toughness = 60.34\n",
    "is_respect = False\n",
    "\n",
    "zombi_dict01 = {\"zombi_name\" : \"normal\",\n",
    "\"zomb_chr\" : [\"walk\"],\n",
    "\"zomb_health\" : 100,\n",
    "\"zomb_toughness\" : 50.23,\n",
    "\"is_respect\" : False}\n",
    "\n",
    "zombi_dict02 = {\"zombi_name\" : \"cone_head\",\n",
    "\"zomb_chr\" : [\"walk\",\"Protect_head\"],\n",
    "\"zomb_health\" : 250,\n",
    "\"zomb_toughness\" : 60.34,\n",
    "\"is_respect\" : False}\n",
    "\n",
    "zombi_set = {\"zombi_name\" : \"normal\",\n",
    "\"zomb_chr\" : [\"walk\"],\n",
    "\"zomb_health\" : 100,\n",
    "\"zomb_toughness\" : 50.23,\n",
    "\"is_respect\" : False},{\"zombi_name\" : \"cone_head\",\n",
    "\"zomb_chr\" : [\"walk\",\"Protect_head\"],\n",
    "\"zomb_health\" : 250,\n",
    "\"zomb_toughness\" : 60.34,\n",
    "\"is_respect\" : False}"
   ]
  },
  {
   "cell_type": "markdown",
   "metadata": {},
   "source": [
    "###  Code Excersice 02"
   ]
  },
  {
   "cell_type": "code",
   "execution_count": 6,
   "metadata": {},
   "outputs": [
    {
     "name": "stdout",
     "output_type": "stream",
     "text": [
      "310.34000000000003\n"
     ]
    }
   ],
   "source": [
    "# Cost of suns if corn head zombie is ready to attack\n",
    "zomb_health = 250\n",
    "zomb_toughness = 60.34\n",
    "sum_health_accuracy = (zomb_health + zomb_toughness)\n",
    "print(sum_health_accuracy)"
   ]
  },
  {
   "cell_type": "code",
   "execution_count": 8,
   "metadata": {},
   "outputs": [
    {
     "name": "stdout",
     "output_type": "stream",
     "text": [
      "2878649433187.8633\n"
     ]
    }
   ],
   "source": [
    "pow_sum_health_accuracy = pow(sum_health_accuracy,5)\n",
    "print(pow_sum_health_accuracy)"
   ]
  },
  {
   "cell_type": "code",
   "execution_count": 9,
   "metadata": {},
   "outputs": [
    {
     "name": "stdout",
     "output_type": "stream",
     "text": [
      "189.66\n"
     ]
    }
   ],
   "source": [
    "min_health_accuracy = (zomb_health - zomb_toughness)\n",
    "print(min_health_accuracy)"
   ]
  },
  {
   "cell_type": "code",
   "execution_count": 10,
   "metadata": {},
   "outputs": [
    {
     "name": "stdout",
     "output_type": "stream",
     "text": [
      "35970.9156\n"
     ]
    }
   ],
   "source": [
    "pow_min_health_accuracy = pow(min_health_accuracy,2)\n",
    "print(pow_min_health_accuracy)"
   ]
  },
  {
   "cell_type": "code",
   "execution_count": 12,
   "metadata": {},
   "outputs": [
    {
     "name": "stdout",
     "output_type": "stream",
     "text": [
      "11514597588.86779\n"
     ]
    }
   ],
   "source": [
    "val = (pow_sum_health_accuracy - pow_min_health_accuracy)/ zomb_health\n",
    "print (val)"
   ]
  },
  {
   "cell_type": "code",
   "execution_count": 13,
   "metadata": {},
   "outputs": [
    {
     "name": "stdout",
     "output_type": "stream",
     "text": [
      "694790818512.2825\n"
     ]
    }
   ],
   "source": [
    "cost = (val * zomb_toughness)\n",
    "print(cost)"
   ]
  },
  {
   "cell_type": "markdown",
   "metadata": {},
   "source": [
    "### Code Excersice 03"
   ]
  },
  {
   "cell_type": "code",
   "execution_count": 14,
   "metadata": {},
   "outputs": [],
   "source": [
    "secret_code = \"plant_vs_zombies_2020i354D@#7\""
   ]
  },
  {
   "cell_type": "code",
   "execution_count": 16,
   "metadata": {},
   "outputs": [
    {
     "data": {
      "text/plain": [
       "str"
      ]
     },
     "execution_count": 16,
     "metadata": {},
     "output_type": "execute_result"
    }
   ],
   "source": [
    "type(secret_code)"
   ]
  },
  {
   "cell_type": "code",
   "execution_count": 18,
   "metadata": {},
   "outputs": [
    {
     "name": "stdout",
     "output_type": "stream",
     "text": [
      "vs\n"
     ]
    }
   ],
   "source": [
    "# 1. Slice between 6th and 8th character\n",
    "print(secret_code[6:8])"
   ]
  },
  {
   "cell_type": "code",
   "execution_count": 19,
   "metadata": {},
   "outputs": [
    {
     "name": "stdout",
     "output_type": "stream",
     "text": [
      "20\n"
     ]
    }
   ],
   "source": [
    "# 2. Membership\n",
    "if '20' in secret_code:\n",
    "    print('20')"
   ]
  },
  {
   "cell_type": "code",
   "execution_count": 21,
   "metadata": {},
   "outputs": [
    {
     "name": "stdout",
     "output_type": "stream",
     "text": [
      "['plant', 'vs', 'zombies', '2020i354D@#7']\n"
     ]
    }
   ],
   "source": [
    "#3. split() --> split by \"_\"\n",
    "secret_code.split(\"_\")\n",
    "print(secret_code.split(\"_\"))"
   ]
  },
  {
   "cell_type": "code",
   "execution_count": 25,
   "metadata": {},
   "outputs": [
    {
     "name": "stdout",
     "output_type": "stream",
     "text": [
      "Plant_vs_zombies_2020i354d@#7\n"
     ]
    }
   ],
   "source": [
    "#4. capitalize() --> Plant_vs_zombies\n",
    "secret_code.capitalize()\n",
    "print(secret_code.capitalize())"
   ]
  },
  {
   "cell_type": "code",
   "execution_count": 22,
   "metadata": {},
   "outputs": [
    {
     "name": "stdout",
     "output_type": "stream",
     "text": [
      "['plant', 'vs', 'zombies', '2020i354D@#7']\n"
     ]
    }
   ],
   "source": [
    "#5. join() --> split from '_' and join together\n",
    "list1 = secret_code.split(\"_\")\n",
    "print(list1)"
   ]
  },
  {
   "cell_type": "code",
   "execution_count": 24,
   "metadata": {},
   "outputs": [
    {
     "name": "stdout",
     "output_type": "stream",
     "text": [
      "plant vs zombies 2020i354D@#7\n"
     ]
    }
   ],
   "source": [
    "#6.replace() -->replace ' ' insted of '_'\n",
    "secret_code.replace(\"_\",' ')\n",
    "print(secret_code.replace(\"_\",' '))"
   ]
  },
  {
   "cell_type": "code",
   "execution_count": 26,
   "metadata": {},
   "outputs": [
    {
     "name": "stdout",
     "output_type": "stream",
     "text": [
      "Plant_Vs_Zombies_2020I354D@#7\n"
     ]
    }
   ],
   "source": [
    "#7. title() --> Plant Vs Zombies\n",
    "secret_code.title()\n",
    "print(secret_code.title())"
   ]
  },
  {
   "cell_type": "code",
   "execution_count": 27,
   "metadata": {},
   "outputs": [
    {
     "name": "stdout",
     "output_type": "stream",
     "text": [
      "17\n"
     ]
    }
   ],
   "source": [
    "#8. find() --> find '20'\n",
    "secret_code.find(\"20\")\n",
    "print(secret_code.find(\"20\"))"
   ]
  },
  {
   "cell_type": "code",
   "execution_count": 28,
   "metadata": {},
   "outputs": [
    {
     "name": "stdout",
     "output_type": "stream",
     "text": [
      "2\n"
     ]
    }
   ],
   "source": [
    "#count() --> count the number '20' inthe secrect code\n",
    "secret_code.count(\"20\")\n",
    "print(secret_code.count(\"20\"))"
   ]
  },
  {
   "cell_type": "code",
   "execution_count": null,
   "metadata": {},
   "outputs": [],
   "source": []
  }
 ],
 "metadata": {
  "kernelspec": {
   "display_name": "Python 3",
   "language": "python",
   "name": "python3"
  },
  "language_info": {
   "codemirror_mode": {
    "name": "ipython",
    "version": 3
   },
   "file_extension": ".py",
   "mimetype": "text/x-python",
   "name": "python",
   "nbconvert_exporter": "python",
   "pygments_lexer": "ipython3",
   "version": "3.7.6"
  }
 },
 "nbformat": 4,
 "nbformat_minor": 4
}
